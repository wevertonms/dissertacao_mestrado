{
 "cells": [
  {
   "cell_type": "code",
   "execution_count": 6,
   "metadata": {},
   "outputs": [],
   "source": [
    "import numpy as np\n",
    "from bokeh.plotting import figure, show, output_notebook; output_notebook()\n",
    "import scipy.fftpack"
   ]
  },
  {
   "cell_type": "code",
   "execution_count": 11,
   "metadata": {},
   "outputs": [
    {
     "name": "stderr",
     "output_type": "stream",
     "text": [
      "/home/weverton/.local/lib/python3.7/site-packages/ipykernel_launcher.py:8: DeprecationWarning: object of type <class 'float'> cannot be safely interpreted as an integer.\n",
      "  \n"
     ]
    },
    {
     "data": {
      "text/html": [
       "\n",
       "\n",
       "\n",
       "\n",
       "\n",
       "\n",
       "  <div class=\"bk-root\" id=\"91946f68-7473-40e6-9932-150ce3f3b311\" data-root-id=\"1243\"></div>\n"
      ]
     },
     "metadata": {},
     "output_type": "display_data"
    },
    {
     "data": {
      "application/javascript": [
       "(function(root) {\n",
       "  function embed_document(root) {\n",
       "    \n",
       "  var docs_json = {\"2b152807-e91c-4e24-a1ad-51e4ae5eabc2\":{\"roots\":{\"references\":[{\"attributes\":{\"below\":[{\"id\":\"1252\",\"type\":\"LinearAxis\"}],\"center\":[{\"id\":\"1256\",\"type\":\"Grid\"},{\"id\":\"1261\",\"type\":\"Grid\"}],\"left\":[{\"id\":\"1257\",\"type\":\"LinearAxis\"}],\"plot_height\":300,\"plot_width\":800,\"renderers\":[{\"id\":\"1278\",\"type\":\"GlyphRenderer\"}],\"title\":{\"id\":\"1298\",\"type\":\"Title\"},\"toolbar\":{\"id\":\"1268\",\"type\":\"Toolbar\"},\"x_range\":{\"id\":\"1244\",\"type\":\"DataRange1d\"},\"x_scale\":{\"id\":\"1248\",\"type\":\"LinearScale\"},\"y_range\":{\"id\":\"1246\",\"type\":\"DataRange1d\"},\"y_scale\":{\"id\":\"1250\",\"type\":\"LinearScale\"}},\"id\":\"1243\",\"subtype\":\"Figure\",\"type\":\"Plot\"},{\"attributes\":{\"data_source\":{\"id\":\"1275\",\"type\":\"ColumnDataSource\"},\"glyph\":{\"id\":\"1276\",\"type\":\"Line\"},\"hover_glyph\":null,\"muted_glyph\":null,\"nonselection_glyph\":{\"id\":\"1277\",\"type\":\"Line\"},\"selection_glyph\":null,\"view\":{\"id\":\"1279\",\"type\":\"CDSView\"}},\"id\":\"1278\",\"type\":\"GlyphRenderer\"},{\"attributes\":{\"active_drag\":\"auto\",\"active_inspect\":\"auto\",\"active_multi\":null,\"active_scroll\":\"auto\",\"active_tap\":\"auto\",\"tools\":[{\"id\":\"1262\",\"type\":\"PanTool\"},{\"id\":\"1263\",\"type\":\"WheelZoomTool\"},{\"id\":\"1264\",\"type\":\"BoxZoomTool\"},{\"id\":\"1265\",\"type\":\"SaveTool\"},{\"id\":\"1266\",\"type\":\"ResetTool\"},{\"id\":\"1267\",\"type\":\"HelpTool\"}]},\"id\":\"1268\",\"type\":\"Toolbar\"},{\"attributes\":{},\"id\":\"1262\",\"type\":\"PanTool\"},{\"attributes\":{},\"id\":\"1304\",\"type\":\"UnionRenderers\"},{\"attributes\":{},\"id\":\"1263\",\"type\":\"WheelZoomTool\"},{\"attributes\":{\"overlay\":{\"id\":\"1306\",\"type\":\"BoxAnnotation\"}},\"id\":\"1264\",\"type\":\"BoxZoomTool\"},{\"attributes\":{\"bottom_units\":\"screen\",\"fill_alpha\":{\"value\":0.5},\"fill_color\":{\"value\":\"lightgrey\"},\"left_units\":\"screen\",\"level\":\"overlay\",\"line_alpha\":{\"value\":1.0},\"line_color\":{\"value\":\"black\"},\"line_dash\":[4,4],\"line_width\":{\"value\":2},\"render_mode\":\"css\",\"right_units\":\"screen\",\"top_units\":\"screen\"},\"id\":\"1306\",\"type\":\"BoxAnnotation\"},{\"attributes\":{},\"id\":\"1248\",\"type\":\"LinearScale\"},{\"attributes\":{\"source\":{\"id\":\"1275\",\"type\":\"ColumnDataSource\"}},\"id\":\"1279\",\"type\":\"CDSView\"},{\"attributes\":{\"callback\":null},\"id\":\"1246\",\"type\":\"DataRange1d\"},{\"attributes\":{},\"id\":\"1265\",\"type\":\"SaveTool\"},{\"attributes\":{},\"id\":\"1305\",\"type\":\"Selection\"},{\"attributes\":{},\"id\":\"1267\",\"type\":\"HelpTool\"},{\"attributes\":{},\"id\":\"1303\",\"type\":\"BasicTickFormatter\"},{\"attributes\":{\"line_color\":\"#1f77b4\",\"x\":{\"field\":\"x\"},\"y\":{\"field\":\"y\"}},\"id\":\"1276\",\"type\":\"Line\"},{\"attributes\":{},\"id\":\"1250\",\"type\":\"LinearScale\"},{\"attributes\":{\"formatter\":{\"id\":\"1303\",\"type\":\"BasicTickFormatter\"},\"ticker\":{\"id\":\"1253\",\"type\":\"BasicTicker\"}},\"id\":\"1252\",\"type\":\"LinearAxis\"},{\"attributes\":{},\"id\":\"1258\",\"type\":\"BasicTicker\"},{\"attributes\":{},\"id\":\"1253\",\"type\":\"BasicTicker\"},{\"attributes\":{\"ticker\":{\"id\":\"1253\",\"type\":\"BasicTicker\"}},\"id\":\"1256\",\"type\":\"Grid\"},{\"attributes\":{},\"id\":\"1266\",\"type\":\"ResetTool\"},{\"attributes\":{\"dimension\":1,\"ticker\":{\"id\":\"1258\",\"type\":\"BasicTicker\"}},\"id\":\"1261\",\"type\":\"Grid\"},{\"attributes\":{},\"id\":\"1301\",\"type\":\"BasicTickFormatter\"},{\"attributes\":{\"formatter\":{\"id\":\"1301\",\"type\":\"BasicTickFormatter\"},\"ticker\":{\"id\":\"1258\",\"type\":\"BasicTicker\"}},\"id\":\"1257\",\"type\":\"LinearAxis\"},{\"attributes\":{\"callback\":null,\"data\":{\"x\":{\"__ndarray__\":\"AAAAAAAAAAD0Ke1BmWf1P/Qp7UGZZwVAd99x8bINEED0Ke1BmWcVQHF0aJJ/wRpAd99x8bINIEC2hK8ZproiQPQp7UGZZyVAMs8qaowUKEBxdGiSf8EqQLAZprpybi1Ad99x8bINMEAWspCFLGQxQLaErxmmujJAVVfOrR8RNED0Ke1BmWc1QJP8C9YSvjZAMs8qaowUOEDSoUn+BWs5QHF0aJJ/wTpAEEeHJvkXPECwGaa6cm49QE/sxE7sxD5Ad99x8bINQEDHSIG777hAQBaykIUsZEFAZhugT2kPQkC2hK8ZprpCQAXuvuPiZUNAVVfOrR8RRECkwN13XLxEQPQp7UGZZ0VARJP8C9YSRkCT/AvWEr5GQONlG6BPaUdAMs8qaowUSECCODo0yb9IQNKhSf4Fa0lAIQtZyEIWSkBxdGiSf8FKQMHdd1y8bEtAEEeHJvkXTEBgsJbwNcNMQLAZprpybk1A/4K1hK8ZTkBP7MRO7MROQJ5V1BgpcE9Ad99x8bINUEAflHlWUWNQQMdIgbvvuFBAbv2III4OUUAWspCFLGRRQL5mmOrKuVFAZhugT2kPUkAO0Ke0B2VSQLaErxmmulJAXTm3fkQQU0AF7r7j4mVTQK2ixkiBu1NAVVfOrR8RVED9C9YSvmZUQKTA3XdcvFRATHXl3PoRVUD0Ke1BmWdVQJze9KY3vVVARJP8C9YSVkDrRwRxdGhWQJP8C9YSvlZAO7ETO7ETV0DjZRugT2lXQIsaIwXuvldAMs8qaowUWEDagzLPKmpYQII4OjTJv1hAKu1BmWcVWUDSoUn+BWtZQHpWUWOkwFlAIQtZyEIWWkDJv2At4WtaQHF0aJJ/wVpAGSlw9x0XW0DB3XdcvGxbQGiSf8FawltAEEeHJvkXXEC4+46Ll21cQGCwlvA1w1xACGWeVdQYXUCwGaa6cm5dQFfOrR8RxF1A/4K1hK8ZXkCnN73pTW9eQE/sxE7sxF5A96DMs4oaX0CeVdQYKXBfQEYK3H3HxV9Ad99x8bINYEDLufUjgjhgQB+UeVZRY2BAc279iCCOYEDHSIG777hgQBsjBe6+42BAbv2III4OYUDC1wxTXTlhQBaykIUsZGFAaowUuPuOYUC+ZpjqyrlhQBJBHB2a5GFAZhugT2kPYkC69SOCODpiQA7Qp7QHZWJAYqor59aPYkC2hK8ZprpiQAlfM0x15WJAXTm3fkQQY0CxEzuxEztjQAXuvuPiZWNAWchCFrKQY0CtosZIgbtjQAF9SntQ5mNAVVfOrR8RZECpMVLg7jtkQP0L1hK+ZmRAUOZZRY2RZECkwN13XLxkQPiaYaor52RATHXl3PoRZUCgT2kPyjxlQPQp7UGZZ2VASARxdGiSZUCc3vSmN71lQPC4eNkG6GVARJP8C9YSZkCYbYA+pT1mQOtHBHF0aGZAPyKIo0OTZkCT/AvWEr5mQOfWjwji6GZAO7ETO7ETZ0CPi5dtgD5nQONlG6BPaWdAN0Cf0h6UZ0CLGiMF7r5nQN/0pje96WdAMs8qaowUaECGqa6cWz9oQNqDMs8qamhALl62AfqUaECCODo0yb9oQNYSvmaY6mhAKu1BmWcVaUB+x8XLNkBpQNKhSf4Fa2lAJnzNMNWVaUB6VlFjpMBpQM0w1ZVz62lAIQtZyEIWakB15dz6EUFqQMm/YC3ha2pAHZrkX7CWakBxdGiSf8FqQMVO7MRO7GpAGSlw9x0Xa0BtA/Qp7UFrQMHdd1y8bGtAFbj7jouXa0Bokn/BWsJrQLxsA/Qp7WtAEEeHJvkXbEBkIQtZyEJsQLj7jouXbWxADNYSvmaYbEBgsJbwNcNsQLSKGiMF7mxACGWeVdQYbUBcPyKIo0NtQLAZprpybm1AA/Qp7UGZbUBXzq0fEcRtQKuoMVLg7m1A/4K1hK8ZbkBTXTm3fkRuQKc3velNb25A+xFBHB2abkBP7MRO7MRuQKPGSIG7725A96DMs4oab0BKe1DmWUVvQJ5V1BgpcG9A8i9YS/iab0BGCtx9x8VvQJrkX7CW8G9Ad99x8bINcEChzLOKGiNwQMu59SOCOHBA9aY3velNcEAflHlWUWNwQEmBu++4eHBAc279iCCOcECdWz8iiKNwQMdIgbvvuHBA8TXDVFfOcEAbIwXuvuNwQEQQR4cm+XBAbv2III4OcUCY6sq59SNxQMLXDFNdOXFA7MRO7MROcUAWspCFLGRxQECf0h6UeXFAaowUuPuOcUCUeVZRY6RxQL5mmOrKuXFA6FPagzLPcUASQRwdmuRxQDwuXrYB+nFAZhugT2kPckCQCOLo0CRyQLr1I4I4OnJA5OJlG6BPckAO0Ke0B2VyQDi96U1venJAYqor59aPckCMl22APqVyQLaErxmmunJA33Hxsg3QckAJXzNMdeVyQDNMdeXc+nJAXTm3fkQQc0CHJvkXrCVzQLETO7ETO3NA2wB9SntQc0AF7r7j4mVzQC/bAH1Ke3NAWchCFrKQc0CDtYSvGaZzQK2ixkiBu3NA148I4ujQc0ABfUp7UOZzQCtqjBS4+3NAVVfOrR8RdEB/RBBHhyZ0QKkxUuDuO3RA0x6UeVZRdED9C9YSvmZ0QCf5F6wlfHRAUOZZRY2RdEB605ve9KZ0QKTA3XdcvHRAzq0fEcTRdED4mmGqK+d0QCKIo0OT/HRATHXl3PoRdUB2Yid2Yid1QKBPaQ/KPHVAyjyrqDFSdUD0Ke1BmWd1QB4XL9sAfXVASARxdGiSdUBy8bIN0Kd1QJze9KY3vXVAxss2QJ/SdUDwuHjZBuh1QBqmunJu/XVARJP8C9YSdkBugD6lPSh2QJhtgD6lPXZAwVrC1wxTdkDrRwRxdGh2QBU1RgrcfXZAPyKIo0OTdkBpD8o8q6h2QJP8C9YSvnZAvelNb3rTdkDn1o8I4uh2QBHE0aFJ/nZAO7ETO7ETd0BlnlXUGCl3QI+Ll22APndAuXjZBuhTd0DjZRugT2l3QA1TXTm3fndAN0Cf0h6Ud0BhLeFrhql3QIsaIwXuvndAtQdlnlXUd0Df9KY3vel3QAni6NAk/3dAMs8qaowUeEBcvGwD9Cl4QIaprpxbP3hAsJbwNcNUeEDagzLPKmp4QARxdGiSf3hALl62AfqUeEBYS/iaYap4QII4OjTJv3hArCV8zTDVeEDWEr5mmOp4QAAAAAAAAHlA\",\"dtype\":\"float64\",\"shape\":[300]},\"y\":{\"__ndarray__\":\"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\",\"dtype\":\"float64\",\"shape\":[300]}},\"selected\":{\"id\":\"1305\",\"type\":\"Selection\"},\"selection_policy\":{\"id\":\"1304\",\"type\":\"UnionRenderers\"}},\"id\":\"1275\",\"type\":\"ColumnDataSource\"},{\"attributes\":{\"text\":\"\"},\"id\":\"1298\",\"type\":\"Title\"},{\"attributes\":{\"callback\":null},\"id\":\"1244\",\"type\":\"DataRange1d\"},{\"attributes\":{\"line_alpha\":0.1,\"line_color\":\"#1f77b4\",\"x\":{\"field\":\"x\"},\"y\":{\"field\":\"y\"}},\"id\":\"1277\",\"type\":\"Line\"}],\"root_ids\":[\"1243\"]},\"title\":\"Bokeh Application\",\"version\":\"1.3.4\"}};\n",
       "  var render_items = [{\"docid\":\"2b152807-e91c-4e24-a1ad-51e4ae5eabc2\",\"roots\":{\"1243\":\"91946f68-7473-40e6-9932-150ce3f3b311\"}}];\n",
       "  root.Bokeh.embed.embed_items_notebook(docs_json, render_items);\n",
       "\n",
       "  }\n",
       "  if (root.Bokeh !== undefined) {\n",
       "    embed_document(root);\n",
       "  } else {\n",
       "    var attempts = 0;\n",
       "    var timer = setInterval(function(root) {\n",
       "      if (root.Bokeh !== undefined) {\n",
       "        embed_document(root);\n",
       "        clearInterval(timer);\n",
       "      }\n",
       "      attempts++;\n",
       "      if (attempts > 100) {\n",
       "        console.log(\"Bokeh: ERROR: Unable to run BokehJS code because BokehJS library is missing\");\n",
       "        clearInterval(timer);\n",
       "      }\n",
       "    }, 10, root)\n",
       "  }\n",
       "})(window);"
      ],
      "application/vnd.bokehjs_exec.v0+json": ""
     },
     "metadata": {
      "application/vnd.bokehjs_exec.v0+json": {
       "id": "1243"
      }
     },
     "output_type": "display_data"
    }
   ],
   "source": [
    "# Number of samplepoints\n",
    "N = 600\n",
    "# sample spacing\n",
    "T = 1.0 / 800.0\n",
    "x = np.linspace(0.0, N*T, N)\n",
    "y = np.sin(50.0 * 2.0*np.pi*x) + 0.5*np.sin(80.0 * 2.0*np.pi*x)\n",
    "yf = scipy.fftpack.fft(y)\n",
    "xf = np.linspace(0.0, 1.0/(2.0*T), N/2)\n",
    "\n",
    "fig = figure(width=800, height=300)\n",
    "fig.line(xf, 2.0/N * np.abs(yf[:N//2]))\n",
    "show(fig)"
   ]
  },
  {
   "cell_type": "code",
   "execution_count": 12,
   "metadata": {},
   "outputs": [
    {
     "ename": "TypeError",
     "evalue": "line() missing 1 required positional argument: 'y'",
     "output_type": "error",
     "traceback": [
      "\u001b[0;31m---------------------------------------------------------------------------\u001b[0m",
      "\u001b[0;31mTypeError\u001b[0m                                 Traceback (most recent call last)",
      "\u001b[0;32m<ipython-input-12-11ce093f7916>\u001b[0m in \u001b[0;36m<module>\u001b[0;34m\u001b[0m\n\u001b[1;32m      1\u001b[0m \u001b[0mfig\u001b[0m \u001b[0;34m=\u001b[0m \u001b[0mfigure\u001b[0m\u001b[0;34m(\u001b[0m\u001b[0;34m)\u001b[0m\u001b[0;34m\u001b[0m\u001b[0;34m\u001b[0m\u001b[0m\n\u001b[0;32m----> 2\u001b[0;31m \u001b[0mfig\u001b[0m\u001b[0;34m.\u001b[0m\u001b[0mline\u001b[0m\u001b[0;34m(\u001b[0m\u001b[0mnp\u001b[0m\u001b[0;34m.\u001b[0m\u001b[0mabs\u001b[0m\u001b[0;34m(\u001b[0m\u001b[0mscipy\u001b[0m\u001b[0;34m.\u001b[0m\u001b[0mfftpack\u001b[0m\u001b[0;34m.\u001b[0m\u001b[0mifft\u001b[0m\u001b[0;34m(\u001b[0m\u001b[0myf\u001b[0m\u001b[0;34m)\u001b[0m\u001b[0;34m)\u001b[0m\u001b[0;34m)\u001b[0m\u001b[0;34m\u001b[0m\u001b[0;34m\u001b[0m\u001b[0m\n\u001b[0m\u001b[1;32m      3\u001b[0m \u001b[0mshow\u001b[0m\u001b[0;34m(\u001b[0m\u001b[0mfig\u001b[0m\u001b[0;34m)\u001b[0m\u001b[0;34m\u001b[0m\u001b[0;34m\u001b[0m\u001b[0m\n",
      "\u001b[0;31mTypeError\u001b[0m: line() missing 1 required positional argument: 'y'"
     ]
    }
   ],
   "source": [
    "fig = figure()\n",
    "fig.line(np.abs(scipy.fftpack.ifft(yf)))\n",
    "show(fig)"
   ]
  },
  {
   "cell_type": "code",
   "execution_count": null,
   "metadata": {},
   "outputs": [],
   "source": []
  }
 ],
 "metadata": {
  "kernelspec": {
   "display_name": "Python 3",
   "language": "python",
   "name": "python3"
  },
  "language_info": {
   "codemirror_mode": {
    "name": "ipython",
    "version": 3
   },
   "file_extension": ".py",
   "mimetype": "text/x-python",
   "name": "python",
   "nbconvert_exporter": "python",
   "pygments_lexer": "ipython3",
   "version": "3.7.4"
  }
 },
 "nbformat": 4,
 "nbformat_minor": 4
}
